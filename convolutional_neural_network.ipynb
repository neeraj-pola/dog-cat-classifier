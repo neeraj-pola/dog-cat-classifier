{
 "cells": [
  {
   "cell_type": "markdown",
   "metadata": {
    "colab_type": "text",
    "id": "3DR-eO17geWu"
   },
   "source": [
    "# Convolutional Neural Network"
   ]
  },
  {
   "cell_type": "markdown",
   "metadata": {
    "colab_type": "text",
    "id": "EMefrVPCg-60"
   },
   "source": [
    "### Importing the libraries"
   ]
  },
  {
   "cell_type": "code",
   "execution_count": 10,
   "metadata": {
    "colab": {},
    "colab_type": "code",
    "id": "sCV30xyVhFbE"
   },
   "outputs": [],
   "source": [
    "import tensorflow as tf\n",
    "from keras.preprocessing.image import ImageDataGenerator"
   ]
  },
  {
   "cell_type": "code",
   "execution_count": 11,
   "metadata": {
    "colab": {},
    "colab_type": "code",
    "id": "FIleuCAjoFD8"
   },
   "outputs": [
    {
     "data": {
      "text/plain": [
       "'2.3.0'"
      ]
     },
     "execution_count": 11,
     "metadata": {},
     "output_type": "execute_result"
    }
   ],
   "source": [
    "tf.__version__"
   ]
  },
  {
   "cell_type": "markdown",
   "metadata": {
    "colab_type": "text",
    "id": "oxQxCBWyoGPE"
   },
   "source": [
    "## Part 1 - Data Preprocessing"
   ]
  },
  {
   "cell_type": "markdown",
   "metadata": {
    "colab_type": "text",
    "id": "MvE-heJNo3GG"
   },
   "source": [
    "### Preprocessing the Training set"
   ]
  },
  {
   "cell_type": "code",
   "execution_count": 12,
   "metadata": {
    "colab": {},
    "colab_type": "code",
    "id": "0koUcJMJpEBD"
   },
   "outputs": [
    {
     "name": "stdout",
     "output_type": "stream",
     "text": [
      "Found 8000 images belonging to 2 classes.\n"
     ]
    }
   ],
   "source": [
    "train_datagen = ImageDataGenerator(rescale = 1./255,\n",
    "                                   shear_range = 0.2,\n",
    "                                   zoom_range = 0.2,\n",
    "                                   horizontal_flip = True)\n",
    "training_set = train_datagen.flow_from_directory('dataset/training_set',\n",
    "                                                 target_size = (64, 64),\n",
    "                                                 batch_size = 32,\n",
    "                                                 class_mode = 'binary')"
   ]
  },
  {
   "cell_type": "markdown",
   "metadata": {
    "colab_type": "text",
    "id": "mrCMmGw9pHys"
   },
   "source": [
    "### Preprocessing the Test set"
   ]
  },
  {
   "cell_type": "code",
   "execution_count": 13,
   "metadata": {
    "colab": {},
    "colab_type": "code",
    "id": "SH4WzfOhpKc3"
   },
   "outputs": [
    {
     "name": "stdout",
     "output_type": "stream",
     "text": [
      "Found 2000 images belonging to 2 classes.\n"
     ]
    }
   ],
   "source": [
    "test_datagen = ImageDataGenerator(rescale = 1./255)\n",
    "test_set = test_datagen.flow_from_directory('dataset/test_set',\n",
    "                                            target_size = (64, 64),\n",
    "                                            batch_size = 32,\n",
    "                                            class_mode = 'binary')"
   ]
  },
  {
   "cell_type": "markdown",
   "metadata": {
    "colab_type": "text",
    "id": "af8O4l90gk7B"
   },
   "source": [
    "## Part 2 - Building the CNN"
   ]
  },
  {
   "cell_type": "markdown",
   "metadata": {
    "colab_type": "text",
    "id": "ces1gXY2lmoX"
   },
   "source": [
    "### Initialising the CNN"
   ]
  },
  {
   "cell_type": "code",
   "execution_count": 14,
   "metadata": {
    "colab": {},
    "colab_type": "code",
    "id": "SAUt4UMPlhLS"
   },
   "outputs": [],
   "source": [
    "cnn = tf.keras.models.Sequential()"
   ]
  },
  {
   "cell_type": "markdown",
   "metadata": {
    "colab_type": "text",
    "id": "u5YJj_XMl5LF"
   },
   "source": [
    "### Step 1 - Convolution"
   ]
  },
  {
   "cell_type": "code",
   "execution_count": 15,
   "metadata": {
    "colab": {},
    "colab_type": "code",
    "id": "XPzPrMckl-hV"
   },
   "outputs": [],
   "source": [
    "cnn.add(tf.keras.layers.Conv2D(filters=32, kernel_size=3, activation='relu', input_shape=[64, 64, 3]))"
   ]
  },
  {
   "cell_type": "markdown",
   "metadata": {
    "colab_type": "text",
    "id": "tf87FpvxmNOJ"
   },
   "source": [
    "### Step 2 - Pooling"
   ]
  },
  {
   "cell_type": "code",
   "execution_count": 16,
   "metadata": {
    "colab": {},
    "colab_type": "code",
    "id": "ncpqPl69mOac"
   },
   "outputs": [],
   "source": [
    "cnn.add(tf.keras.layers.MaxPool2D(pool_size=2, strides=2))"
   ]
  },
  {
   "cell_type": "markdown",
   "metadata": {
    "colab_type": "text",
    "id": "xaTOgD8rm4mU"
   },
   "source": [
    "### Adding a second convolutional layer"
   ]
  },
  {
   "cell_type": "code",
   "execution_count": 17,
   "metadata": {
    "colab": {},
    "colab_type": "code",
    "id": "i_-FZjn_m8gk"
   },
   "outputs": [],
   "source": [
    "cnn.add(tf.keras.layers.Conv2D(filters=32, kernel_size=3, activation='relu'))\n",
    "cnn.add(tf.keras.layers.MaxPool2D(pool_size=2, strides=2))"
   ]
  },
  {
   "cell_type": "markdown",
   "metadata": {
    "colab_type": "text",
    "id": "tmiEuvTunKfk"
   },
   "source": [
    "### Step 3 - Flattening"
   ]
  },
  {
   "cell_type": "code",
   "execution_count": 18,
   "metadata": {
    "colab": {},
    "colab_type": "code",
    "id": "6AZeOGCvnNZn"
   },
   "outputs": [],
   "source": [
    "cnn.add(tf.keras.layers.Flatten())"
   ]
  },
  {
   "cell_type": "markdown",
   "metadata": {
    "colab_type": "text",
    "id": "dAoSECOm203v"
   },
   "source": [
    "### Step 4 - Full Connection"
   ]
  },
  {
   "cell_type": "code",
   "execution_count": 19,
   "metadata": {
    "colab": {},
    "colab_type": "code",
    "id": "8GtmUlLd26Nq"
   },
   "outputs": [],
   "source": [
    "cnn.add(tf.keras.layers.Dense(units=128, activation='relu'))"
   ]
  },
  {
   "cell_type": "markdown",
   "metadata": {
    "colab_type": "text",
    "id": "yTldFvbX28Na"
   },
   "source": [
    "### Step 5 - Output Layer"
   ]
  },
  {
   "cell_type": "code",
   "execution_count": 20,
   "metadata": {
    "colab": {},
    "colab_type": "code",
    "id": "1p_Zj1Mc3Ko_"
   },
   "outputs": [],
   "source": [
    "cnn.add(tf.keras.layers.Dense(units=1, activation='sigmoid'))"
   ]
  },
  {
   "cell_type": "markdown",
   "metadata": {
    "colab_type": "text",
    "id": "D6XkI90snSDl"
   },
   "source": [
    "## Part 3 - Training the CNN"
   ]
  },
  {
   "cell_type": "markdown",
   "metadata": {
    "colab_type": "text",
    "id": "vfrFQACEnc6i"
   },
   "source": [
    "### Compiling the CNN"
   ]
  },
  {
   "cell_type": "code",
   "execution_count": 21,
   "metadata": {
    "colab": {},
    "colab_type": "code",
    "id": "NALksrNQpUlJ"
   },
   "outputs": [],
   "source": [
    "cnn.compile(optimizer = 'adam', loss = 'binary_crossentropy', metrics = ['accuracy'])"
   ]
  },
  {
   "cell_type": "markdown",
   "metadata": {
    "colab_type": "text",
    "id": "ehS-v3MIpX2h"
   },
   "source": [
    "### Training the CNN on the Training set and evaluating it on the Test set"
   ]
  },
  {
   "cell_type": "code",
   "execution_count": 22,
   "metadata": {
    "colab": {},
    "colab_type": "code",
    "id": "XUj1W4PJptta"
   },
   "outputs": [
    {
     "name": "stdout",
     "output_type": "stream",
     "text": [
      "Epoch 1/25\n",
      "250/250 [==============================] - 197s 789ms/step - loss: 0.6861 - accuracy: 0.5559 - val_loss: 0.6537 - val_accuracy: 0.6360\n",
      "Epoch 2/25\n",
      "250/250 [==============================] - 97s 388ms/step - loss: 0.6276 - accuracy: 0.6511 - val_loss: 0.6401 - val_accuracy: 0.6555\n",
      "Epoch 3/25\n",
      "250/250 [==============================] - 98s 393ms/step - loss: 0.5813 - accuracy: 0.6948 - val_loss: 0.5887 - val_accuracy: 0.6910\n",
      "Epoch 4/25\n",
      "250/250 [==============================] - 104s 415ms/step - loss: 0.5515 - accuracy: 0.7232 - val_loss: 0.5541 - val_accuracy: 0.7205\n",
      "Epoch 5/25\n",
      "250/250 [==============================] - 107s 426ms/step - loss: 0.5284 - accuracy: 0.7335 - val_loss: 0.5109 - val_accuracy: 0.7395\n",
      "Epoch 6/25\n",
      "250/250 [==============================] - 88s 352ms/step - loss: 0.5062 - accuracy: 0.7501 - val_loss: 0.5137 - val_accuracy: 0.7525\n",
      "Epoch 7/25\n",
      "250/250 [==============================] - 69s 275ms/step - loss: 0.4934 - accuracy: 0.7623 - val_loss: 0.5024 - val_accuracy: 0.7530\n",
      "Epoch 8/25\n",
      "250/250 [==============================] - 63s 254ms/step - loss: 0.4777 - accuracy: 0.7713 - val_loss: 0.4871 - val_accuracy: 0.7655\n",
      "Epoch 9/25\n",
      "250/250 [==============================] - 61s 243ms/step - loss: 0.4653 - accuracy: 0.7725 - val_loss: 0.4749 - val_accuracy: 0.7785\n",
      "Epoch 10/25\n",
      "250/250 [==============================] - 61s 242ms/step - loss: 0.4561 - accuracy: 0.7832 - val_loss: 0.4692 - val_accuracy: 0.7750\n",
      "Epoch 11/25\n",
      "250/250 [==============================] - 62s 248ms/step - loss: 0.4409 - accuracy: 0.7895 - val_loss: 0.4724 - val_accuracy: 0.7805\n",
      "Epoch 12/25\n",
      "250/250 [==============================] - 61s 243ms/step - loss: 0.4298 - accuracy: 0.7965 - val_loss: 0.5394 - val_accuracy: 0.7375\n",
      "Epoch 13/25\n",
      "250/250 [==============================] - 68s 271ms/step - loss: 0.4283 - accuracy: 0.7984 - val_loss: 0.4738 - val_accuracy: 0.7745\n",
      "Epoch 14/25\n",
      "250/250 [==============================] - 74s 297ms/step - loss: 0.4163 - accuracy: 0.8051 - val_loss: 0.4549 - val_accuracy: 0.7875\n",
      "Epoch 15/25\n",
      "250/250 [==============================] - 67s 267ms/step - loss: 0.4076 - accuracy: 0.8125 - val_loss: 0.4726 - val_accuracy: 0.7885\n",
      "Epoch 16/25\n",
      "250/250 [==============================] - 63s 252ms/step - loss: 0.3990 - accuracy: 0.8217 - val_loss: 0.4856 - val_accuracy: 0.7845\n",
      "Epoch 17/25\n",
      "250/250 [==============================] - 63s 250ms/step - loss: 0.3941 - accuracy: 0.8141 - val_loss: 0.4728 - val_accuracy: 0.7880\n",
      "Epoch 18/25\n",
      "250/250 [==============================] - 61s 243ms/step - loss: 0.3867 - accuracy: 0.8195 - val_loss: 0.4638 - val_accuracy: 0.7965\n",
      "Epoch 19/25\n",
      "250/250 [==============================] - 62s 247ms/step - loss: 0.3706 - accuracy: 0.8314 - val_loss: 0.4514 - val_accuracy: 0.7930\n",
      "Epoch 20/25\n",
      "250/250 [==============================] - 64s 257ms/step - loss: 0.3664 - accuracy: 0.8356 - val_loss: 0.4738 - val_accuracy: 0.7910\n",
      "Epoch 21/25\n",
      "250/250 [==============================] - 62s 247ms/step - loss: 0.3651 - accuracy: 0.8313 - val_loss: 0.4629 - val_accuracy: 0.7820\n",
      "Epoch 22/25\n",
      "250/250 [==============================] - 61s 244ms/step - loss: 0.3524 - accuracy: 0.8399 - val_loss: 0.4871 - val_accuracy: 0.7745\n",
      "Epoch 23/25\n",
      "250/250 [==============================] - 64s 257ms/step - loss: 0.3463 - accuracy: 0.8446 - val_loss: 0.4634 - val_accuracy: 0.7855\n",
      "Epoch 24/25\n",
      "250/250 [==============================] - 62s 247ms/step - loss: 0.3329 - accuracy: 0.8537 - val_loss: 0.5258 - val_accuracy: 0.7855\n",
      "Epoch 25/25\n",
      "250/250 [==============================] - 62s 250ms/step - loss: 0.3392 - accuracy: 0.8506 - val_loss: 0.5196 - val_accuracy: 0.7655\n"
     ]
    },
    {
     "data": {
      "text/plain": [
       "<tensorflow.python.keras.callbacks.History at 0x12b34da4e20>"
      ]
     },
     "execution_count": 22,
     "metadata": {},
     "output_type": "execute_result"
    }
   ],
   "source": [
    "cnn.fit(x = training_set, validation_data = test_set, epochs = 25)"
   ]
  },
  {
   "cell_type": "markdown",
   "metadata": {
    "colab_type": "text",
    "id": "U3PZasO0006Z"
   },
   "source": [
    "## Part 4 - Making a single prediction"
   ]
  },
  {
   "cell_type": "code",
   "execution_count": 67,
   "metadata": {
    "colab": {},
    "colab_type": "code",
    "id": "gsSiWEJY1BPB"
   },
   "outputs": [],
   "source": [
    "import numpy as np\n",
    "from keras.preprocessing import image\n",
    "test_image = image.load_img('dataset/test_set/cats/cat.4209.jpg', target_size = (64, 64))\n",
    "test_image = image.img_to_array(test_image)\n",
    "test_image = np.expand_dims(test_image, axis = 0)\n",
    "result = cnn.predict(test_image)\n",
    "training_set.class_indices\n",
    "if result[0][0] == 1:\n",
    "  prediction = 'dog'\n",
    "else:\n",
    "  prediction = 'cat'"
   ]
  },
  {
   "cell_type": "code",
   "execution_count": 68,
   "metadata": {
    "colab": {},
    "colab_type": "code",
    "id": "ED9KB3I54c1i"
   },
   "outputs": [
    {
     "name": "stdout",
     "output_type": "stream",
     "text": [
      "cat\n"
     ]
    }
   ],
   "source": [
    "print(prediction)"
   ]
  }
 ],
 "metadata": {
  "colab": {
   "collapsed_sections": [],
   "name": "convolutional_neural_network.ipynb",
   "provenance": [],
   "toc_visible": true
  },
  "kernelspec": {
   "display_name": "Python 3",
   "language": "python",
   "name": "python3"
  },
  "language_info": {
   "codemirror_mode": {
    "name": "ipython",
    "version": 3
   },
   "file_extension": ".py",
   "mimetype": "text/x-python",
   "name": "python",
   "nbconvert_exporter": "python",
   "pygments_lexer": "ipython3",
   "version": "3.8.8"
  }
 },
 "nbformat": 4,
 "nbformat_minor": 1
}
